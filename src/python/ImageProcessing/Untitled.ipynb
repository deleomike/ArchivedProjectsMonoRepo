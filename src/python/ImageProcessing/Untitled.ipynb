{
 "cells": [
  {
   "cell_type": "code",
   "execution_count": null,
   "id": "2d9d014e",
   "metadata": {},
   "outputs": [],
   "source": [
    "import cv2\n",
    "import matplotlib.pyplot as plt\n",
    "\n",
    "%matplotlib inline"
   ]
  },
  {
   "cell_type": "code",
   "execution_count": null,
   "id": "00e90771",
   "metadata": {},
   "outputs": [],
   "source": [
    "original = cv2.imread(\"original.jpg\")\n",
    "different = cv2.imread(\"different.jpg\")\n",
    "print(original.shape)\n",
    "print(different.shape)\n",
    "print(original - different)"
   ]
  },
  {
   "cell_type": "code",
   "execution_count": null,
   "id": "5852204d",
   "metadata": {},
   "outputs": [],
   "source": [
    "# plt.imshow(original)\n",
    "# plt.imshow(different)"
   ]
  },
  {
   "cell_type": "code",
   "execution_count": null,
   "id": "9b659caa",
   "metadata": {},
   "outputs": [],
   "source": []
  },
  {
   "cell_type": "code",
   "execution_count": null,
   "id": "d654bf65",
   "metadata": {},
   "outputs": [],
   "source": [
    "res = original.copy()\n",
    "cv2.absdiff(original, different, res)\n",
    "print(res.shape)\n",
    "\n",
    "res = res.astype('uint8')\n",
    "\n",
    "# res = cv2.cvtColor(res, cv2.COLOR_BGR2GRAY)\n",
    "\n",
    "# for i in range(0, 9):\n",
    "#     dilated = cv2.dilate(res.copy(), None, iterations= i+ 1)\n",
    "#     plt.imshow(dilated)\n",
    "#     plt.show()\n",
    "\n",
    "# dilated = cv2.dilate(res.copy(), None, iterations= 0)\n",
    "\n",
    "# (T, res) = cv2.threshold(res, 3, 255, cv2.THRESH_BINARY)\n",
    "    \n",
    "cv2.imwrite(\"result.jpg\", res)\n",
    "\n",
    "plt.imshow(res)"
   ]
  },
  {
   "cell_type": "code",
   "execution_count": null,
   "id": "860c6b0b",
   "metadata": {},
   "outputs": [],
   "source": [
    "plt.imshow(res)"
   ]
  },
  {
   "cell_type": "code",
   "execution_count": null,
   "id": "eb5c0702",
   "metadata": {},
   "outputs": [],
   "source": []
  },
  {
   "cell_type": "code",
   "execution_count": null,
   "id": "70356185",
   "metadata": {},
   "outputs": [],
   "source": []
  }
 ],
 "metadata": {
  "kernelspec": {
   "display_name": "Python 3",
   "language": "python",
   "name": "python3"
  },
  "language_info": {
   "codemirror_mode": {
    "name": "ipython",
    "version": 3
   },
   "file_extension": ".py",
   "mimetype": "text/x-python",
   "name": "python",
   "nbconvert_exporter": "python",
   "pygments_lexer": "ipython3",
   "version": "3.7.10"
  }
 },
 "nbformat": 4,
 "nbformat_minor": 5
}
