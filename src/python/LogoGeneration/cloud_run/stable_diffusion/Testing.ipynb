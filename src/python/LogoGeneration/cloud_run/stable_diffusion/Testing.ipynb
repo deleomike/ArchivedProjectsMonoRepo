{
 "cells": [
  {
   "cell_type": "code",
   "execution_count": 3,
   "id": "2b1e5182-8b8f-45e1-831d-d95fc413015f",
   "metadata": {},
   "outputs": [],
   "source": [
    "# make sure you're logged in with `huggingface-cli login`\n",
    "from torch import autocast\n",
    "import torch\n",
    "from diffusers import StableDiffusionPipeline\n",
    "from fastapi import FastAPI\n",
    "\n",
    "from settings import DEVICE\n",
    "from request_schemas import GenerateRequest"
   ]
  },
  {
   "cell_type": "code",
   "execution_count": 4,
   "id": "2f01e002-aff9-4d69-ae50-2b3d0f9e4a0f",
   "metadata": {},
   "outputs": [
    {
     "data": {
      "application/vnd.jupyter.widget-view+json": {
       "model_id": "fe1eb8894ae04b98accc243ad9cb77e1",
       "version_major": 2,
       "version_minor": 0
      },
      "text/plain": [
       "Loading pipeline components...:   0%|          | 0/7 [00:00<?, ?it/s]"
      ]
     },
     "metadata": {},
     "output_type": "display_data"
    },
    {
     "name": "stderr",
     "output_type": "stream",
     "text": [
      "`text_config_dict` is provided which will be used to initialize `CLIPTextConfig`. The value `text_config[\"id2label\"]` will be overriden.\n",
      "`text_config_dict` is provided which will be used to initialize `CLIPTextConfig`. The value `text_config[\"bos_token_id\"]` will be overriden.\n",
      "`text_config_dict` is provided which will be used to initialize `CLIPTextConfig`. The value `text_config[\"eos_token_id\"]` will be overriden.\n"
     ]
    }
   ],
   "source": [
    "pipe = StableDiffusionPipeline.from_pretrained(\n",
    "    \"nota-ai/bk-sdm-small\",\n",
    "    # \"CompVis/stable-diffusion-v1-4\", \n",
    "    use_auth_token=True\n",
    ").to(DEVICE)"
   ]
  },
  {
   "cell_type": "code",
   "execution_count": 5,
   "id": "311500de-c0c0-49f9-98c2-f1f3fbdbad54",
   "metadata": {},
   "outputs": [],
   "source": [
    "pipe.enable_attention_slicing()\n",
    "pipe.safety_checker = None"
   ]
  },
  {
   "cell_type": "code",
   "execution_count": null,
   "id": "9f88000d-9996-46d1-b2cf-a0d520194e8b",
   "metadata": {},
   "outputs": [
    {
     "data": {
      "application/vnd.jupyter.widget-view+json": {
       "model_id": "8a4a0998662d49abb361e1d15eb46f06",
       "version_major": 2,
       "version_minor": 0
      },
      "text/plain": [
       "  0%|          | 0/1 [00:00<?, ?it/s]"
      ]
     },
     "metadata": {},
     "output_type": "display_data"
    },
    {
     "data": {
      "application/vnd.jupyter.widget-view+json": {
       "model_id": "5065a86e5ed14e71a074b44cdab9c618",
       "version_major": 2,
       "version_minor": 0
      },
      "text/plain": [
       "  0%|          | 0/1 [00:00<?, ?it/s]"
      ]
     },
     "metadata": {},
     "output_type": "display_data"
    },
    {
     "data": {
      "application/vnd.jupyter.widget-view+json": {
       "model_id": "7204f6d9e4814714b6d9220df9beb366",
       "version_major": 2,
       "version_minor": 0
      },
      "text/plain": [
       "  0%|          | 0/20 [00:00<?, ?it/s]"
      ]
     },
     "metadata": {},
     "output_type": "display_data"
    }
   ],
   "source": [
    "prompt = \"\"\n",
    "\n",
    "if DEVICE != \"mps\":\n",
    "    with autocast(DEVICE):\n",
    "        _ = pipe(prompt, num_inference_steps=1)\n",
    "        images = pipe(prompt)[\"sample\"] \n",
    "else:\n",
    "    pipe(prompt, num_inference_steps=1)\n",
    "    pipe(prompt, num_inference_steps=1)\n",
    "    images = pipe(prompt, num_inference_steps=20, num_images_per_prompt=3)"
   ]
  },
  {
   "cell_type": "code",
   "execution_count": null,
   "id": "715f1c09-479e-4dd3-ba05-3b60a858cd22",
   "metadata": {},
   "outputs": [],
   "source": [
    "for idx, image in enumerate(images.images): \n",
    "\n",
    "    display(image)\n",
    "\n",
    "    # image.save(f\"astronaut_rides_horse_{idx}.png\")"
   ]
  },
  {
   "cell_type": "code",
   "execution_count": 28,
   "id": "03221601-d108-4a67-8776-2ff52c528bb8",
   "metadata": {},
   "outputs": [
    {
     "data": {
      "text/plain": [
       "StableDiffusionPipelineOutput(images=[<PIL.Image.Image image mode=RGB size=512x512 at 0x105F6C8B0>], nsfw_content_detected=None)"
      ]
     },
     "execution_count": 28,
     "metadata": {},
     "output_type": "execute_result"
    }
   ],
   "source": [
    "images"
   ]
  },
  {
   "cell_type": "code",
   "execution_count": null,
   "id": "56788357-feba-438f-874d-9a08dcc39938",
   "metadata": {},
   "outputs": [],
   "source": []
  },
  {
   "cell_type": "code",
   "execution_count": null,
   "id": "fecf953e-85f5-412a-b014-b49a15f75d94",
   "metadata": {},
   "outputs": [],
   "source": []
  }
 ],
 "metadata": {
  "kernelspec": {
   "display_name": "Python 3 (ipykernel)",
   "language": "python",
   "name": "python3"
  },
  "language_info": {
   "codemirror_mode": {
    "name": "ipython",
    "version": 3
   },
   "file_extension": ".py",
   "mimetype": "text/x-python",
   "name": "python",
   "nbconvert_exporter": "python",
   "pygments_lexer": "ipython3",
   "version": "3.9.12"
  }
 },
 "nbformat": 4,
 "nbformat_minor": 5
}
