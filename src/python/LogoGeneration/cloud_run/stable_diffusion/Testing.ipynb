{
 "cells": [
  {
   "cell_type": "code",
   "execution_count": null,
   "id": "2b1e5182-8b8f-45e1-831d-d95fc413015f",
   "metadata": {},
   "outputs": [],
   "source": [
    "# make sure you're logged in with `huggingface-cli login`\n",
    "from torch import autocast\n",
    "import torch\n",
    "from diffusers import StableDiffusionPipeline\n",
    "from fastapi import FastAPI\n",
    "\n",
    "from settings import DEVICE\n",
    "from request_schemas import GenerateRequest"
   ]
  },
  {
   "cell_type": "code",
   "execution_count": null,
   "id": "2f01e002-aff9-4d69-ae50-2b3d0f9e4a0f",
   "metadata": {},
   "outputs": [],
   "source": [
    "pipe = StableDiffusionPipeline.from_pretrained(\n",
    "    \"nota-ai/bk-sdm-small\",\n",
    "    # \"CompVis/stable-diffusion-v1-4\", \n",
    "    use_auth_token=True\n",
    ").to(DEVICE)"
   ]
  },
  {
   "cell_type": "code",
   "execution_count": null,
   "id": "311500de-c0c0-49f9-98c2-f1f3fbdbad54",
   "metadata": {},
   "outputs": [],
   "source": [
    "pipe.enable_attention_slicing()\n",
    "pipe.safety_checker = None"
   ]
  },
  {
   "cell_type": "code",
   "execution_count": null,
   "id": "9f88000d-9996-46d1-b2cf-a0d520194e8b",
   "metadata": {},
   "outputs": [],
   "source": [
    "prompt = \"\"\n",
    "\n",
    "if DEVICE != \"mps\":\n",
    "    with autocast(DEVICE):\n",
    "        _ = pipe(prompt, num_inference_steps=1)\n",
    "        images = pipe(prompt)[\"sample\"] \n",
    "else:\n",
    "    pipe(prompt, num_inference_steps=1)\n",
    "    pipe(prompt, num_inference_steps=1)\n",
    "    images = pipe(prompt, num_inference_steps=20, num_images_per_prompt=3)"
   ]
  },
  {
   "cell_type": "code",
   "execution_count": null,
   "id": "715f1c09-479e-4dd3-ba05-3b60a858cd22",
   "metadata": {},
   "outputs": [],
   "source": [
    "for idx, image in enumerate(images.images): \n",
    "\n",
    "    display(image)\n",
    "\n",
    "    # image.save(f\"astronaut_rides_horse_{idx}.png\")"
   ]
  },
  {
   "cell_type": "code",
   "execution_count": null,
   "id": "03221601-d108-4a67-8776-2ff52c528bb8",
   "metadata": {},
   "outputs": [],
   "source": [
    "images"
   ]
  },
  {
   "cell_type": "code",
   "execution_count": null,
   "id": "56788357-feba-438f-874d-9a08dcc39938",
   "metadata": {},
   "outputs": [],
   "source": []
  },
  {
   "cell_type": "code",
   "execution_count": null,
   "id": "fecf953e-85f5-412a-b014-b49a15f75d94",
   "metadata": {},
   "outputs": [],
   "source": []
  }
 ],
 "metadata": {
  "kernelspec": {
   "display_name": "Python 3 (ipykernel)",
   "language": "python",
   "name": "python3"
  },
  "language_info": {
   "codemirror_mode": {
    "name": "ipython",
    "version": 3
   },
   "file_extension": ".py",
   "mimetype": "text/x-python",
   "name": "python",
   "nbconvert_exporter": "python",
   "pygments_lexer": "ipython3",
   "version": "3.9.12"
  }
 },
 "nbformat": 4,
 "nbformat_minor": 5
}
